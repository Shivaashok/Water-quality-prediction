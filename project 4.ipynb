{
 "cells": [
  {
   "cell_type": "code",
   "execution_count": 1,
   "id": "93b60fe6-ddf9-4f6b-a323-a5560a30c64f",
   "metadata": {},
   "outputs": [
    {
     "name": "stdout",
     "output_type": "stream",
     "text": [
      "         ph    Hardness       Solids  Chloramines     Sulfate  Conductivity  \\\n",
      "0       NaN  204.890456  20791.31898     7.300212  368.516441    564.308654   \n",
      "1  3.716080  129.422921  18630.05786     6.635246         NaN    592.885359   \n",
      "2  8.099124  224.236259  19909.54173     9.275884         NaN    418.606213   \n",
      "3  8.316766  214.373394  22018.41744     8.059332  356.886136    363.266516   \n",
      "4  9.092223  181.101509  17978.98634     6.546600  310.135738    398.410813   \n",
      "\n",
      "   Organic_carbon  Trihalomethanes  Turbidity  Potability  \n",
      "0       10.379783        86.990970   2.963135           0  \n",
      "1       15.180013        56.329076   4.500656           0  \n",
      "2       16.868637        66.420093   3.055934           0  \n",
      "3       18.436525       100.341674   4.628771           0  \n",
      "4       11.558279        31.997993   4.075075           0  \n",
      "Naive Bayes Specificity: 87.62%\n",
      "Gradient Boosting Specificity: 89.81%\n"
     ]
    },
    {
     "name": "stderr",
     "output_type": "stream",
     "text": [
      "C:\\Users\\ashiv\\anaconda3\\Lib\\site-packages\\seaborn\\_oldcore.py:1498: FutureWarning: is_categorical_dtype is deprecated and will be removed in a future version. Use isinstance(dtype, CategoricalDtype) instead\n",
      "  if pd.api.types.is_categorical_dtype(vector):\n",
      "C:\\Users\\ashiv\\anaconda3\\Lib\\site-packages\\seaborn\\_oldcore.py:1498: FutureWarning: is_categorical_dtype is deprecated and will be removed in a future version. Use isinstance(dtype, CategoricalDtype) instead\n",
      "  if pd.api.types.is_categorical_dtype(vector):\n",
      "C:\\Users\\ashiv\\anaconda3\\Lib\\site-packages\\seaborn\\_oldcore.py:1765: FutureWarning: unique with argument that is not not a Series, Index, ExtensionArray, or np.ndarray is deprecated and will raise in a future version.\n",
      "  order = pd.unique(vector)\n",
      "C:\\Users\\ashiv\\anaconda3\\Lib\\site-packages\\seaborn\\_oldcore.py:1498: FutureWarning: is_categorical_dtype is deprecated and will be removed in a future version. Use isinstance(dtype, CategoricalDtype) instead\n",
      "  if pd.api.types.is_categorical_dtype(vector):\n"
     ]
    },
    {
     "data": {
      "image/png": "[encoded data removed]",
      "text/plain": [
       "<Figure size 800x500 with 1 Axes>"
      ]
     },
     "metadata": {},
     "output_type": "display_data"
    },
    {
     "name": "stdout",
     "output_type": "stream",
     "text": [
      "Naive Bayes Specificity: 87.62%\n",
      "Gradient Boosting Specificity: 89.81%\n"
     ]
    }
   ],
   "source": [
    "# Import necessary libraries\n",
    "import pandas as pd\n",
    "from sklearn.model_selection import train_test_split\n",
    "from sklearn.preprocessing import StandardScaler\n",
    "from sklearn.impute import SimpleImputer\n",
    "from sklearn.ensemble import GradientBoostingClassifier\n",
    "from sklearn.naive_bayes import GaussianNB\n",
    "from sklearn.metrics import confusion_matrix\n",
    "import matplotlib.pyplot as plt\n",
    "import seaborn as sns\n",
    "\n",
    "# Load the dataset\n",
    "# Assuming your dataset is in a CSV file named 'water_quality_dataset.csv'\n",
    "dataset_path = 'C:/Users/ashiv/OneDrive/Desktop/water/groundwater_data.csv'\n",
    "df = pd.read_csv(dataset_path)\n",
    "\n",
    "# Display the first few rows of the dataset\n",
    "print(df.head())\n",
    "\n",
    "# Handle missing values (NaN) using mean imputation\n",
    "imputer = SimpleImputer(strategy='mean')\n",
    "df_imputed = pd.DataFrame(imputer.fit_transform(df), columns=df.columns)\n",
    "\n",
    "# Split the data into features and target\n",
    "X = df_imputed.drop('Potability', axis=1)\n",
    "y = df_imputed['Potability']\n",
    "\n",
    "# Split the data into training and testing sets\n",
    "X_train, X_test, y_train, y_test = train_test_split(X, y, test_size=0.2, random_state=42)\n",
    "\n",
    "# Feature scaling\n",
    "scaler = StandardScaler()\n",
    "X_train_scaled = scaler.fit_transform(X_train)\n",
    "X_test_scaled = scaler.transform(X_test)\n",
    "\n",
    "# Naive Bayes model\n",
    "naive_bayes_model = GaussianNB()\n",
    "naive_bayes_model.fit(X_train_scaled, y_train)\n",
    "naive_bayes_predictions = naive_bayes_model.predict(X_test_scaled)\n",
    "\n",
    "# Gradient Boosting model (XGBoost)\n",
    "gradient_boosting_model = GradientBoostingClassifier(random_state=42)\n",
    "gradient_boosting_model.fit(X_train_scaled, y_train)\n",
    "gradient_boosting_predictions = gradient_boosting_model.predict(X_test_scaled)\n",
    "\n",
    "# Calculate confusion matrices for both models\n",
    "naive_bayes_conf_matrix = confusion_matrix(y_test, naive_bayes_predictions)\n",
    "gradient_boosting_conf_matrix = confusion_matrix(y_test, gradient_boosting_predictions)\n",
    "\n",
    "# Calculate specificity from confusion matrices\n",
    "naive_bayes_specificity = naive_bayes_conf_matrix[0, 0] / (naive_bayes_conf_matrix[0, 0] + naive_bayes_conf_matrix[0, 1]) * 100\n",
    "gradient_boosting_specificity = gradient_boosting_conf_matrix[0, 0] / (gradient_boosting_conf_matrix[0, 0] + gradient_boosting_conf_matrix[0, 1]) * 100\n",
    "\n",
    "# Compare specificities\n",
    "print(f\"Naive Bayes Specificity: {naive_bayes_specificity:.2f}%\")\n",
    "print(f\"Gradient Boosting Specificity: {gradient_boosting_specificity:.2f}%\")\n",
    "\n",
    "# Create a bar plot to compare specificities\n",
    "specificity_data = {'Naive Bayes': naive_bayes_specificity, 'Gradient Boosting': gradient_boosting_specificity}\n",
    "plt.figure(figsize=(8, 5))\n",
    "sns.barplot(x=list(specificity_data.keys()), y=list(specificity_data.values()))\n",
    "plt.title('Comparison of Specificities')\n",
    "plt.ylabel('Specificity (%)')\n",
    "plt.show()\n",
    "print(f\"Naive Bayes Specificity: {naive_bayes_specificity:.2f}%\")\n",
    "print(f\"Gradient Boosting Specificity: {gradient_boosting_specificity:.2f}%\")"
   ]
  }
 ],
 "metadata": {
  "kernelspec": {
   "display_name": "Python 3 (ipykernel)",
   "language": "python",
   "name": "python3"
  },
  "language_info": {
   "codemirror_mode": {
    "name": "ipython",
    "version": 3
   },
   "file_extension": ".py",
   "mimetype": "text/x-python",
   "name": "python",
   "nbconvert_exporter": "python",
   "pygments_lexer": "ipython3",
   "version": "3.11.5"
  }
 },
 "nbformat": 4,
 "nbformat_minor": 5
}
